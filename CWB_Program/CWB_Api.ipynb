{
 "cells": [
  {
   "cell_type": "code",
   "execution_count": 1,
   "metadata": {},
   "outputs": [],
   "source": [
    "# For sending GET requests from the API\n",
    "import requests\n",
    "# For saving access tokens and for file management when creating and adding to the dataset\n",
    "import os\n",
    "# For dealing with json responses we receive from the API\n",
    "import json\n",
    "# For displaying the data after\n",
    "import pandas as pd\n",
    "# For saving the response data in CSV format\n",
    "import csv\n",
    "#To add wait time between requests\n",
    "import time\n",
    "import datetime\n",
    "\n",
    "now = datetime.datetime.now().strftime(\"%Y%m%d\")"
   ]
  },
  {
   "cell_type": "code",
   "execution_count": 2,
   "metadata": {},
   "outputs": [],
   "source": [
    "def connect_to_cwb(url, params):\n",
    "    response = requests.request(\"GET\", url, params = params)\n",
    "    print(\"Endpoint Response Code: \" + str(response.status_code))\n",
    "    if response.status_code != 200:\n",
    "        raise Exception(response.status_code, response.text)\n",
    "    res=response.json()\n",
    "    return res"
   ]
  },
  {
   "cell_type": "code",
   "execution_count": 3,
   "metadata": {},
   "outputs": [
    {
     "name": "stdout",
     "output_type": "stream",
     "text": [
      "Endpoint Response Code: 200\n"
     ]
    }
   ],
   "source": [
    "authorizationKey = '*****YOURKEY*****'\n",
    "url = 'https://opendata.cwa.gov.tw/api/v1/rest/datastore/O-A0001-001'\n",
    "\n",
    "queryParams = {\n",
    "    'Authorization': authorizationKey,\n",
    "    'format': 'JSON'}\n",
    "\n",
    "result = connect_to_cwb(url, queryParams)"
   ]
  },
  {
   "cell_type": "code",
   "execution_count": 4,
   "metadata": {},
   "outputs": [],
   "source": [
    "type(result)\n",
    "outPath = \"../CWB_Data/\"\n",
    "resultJsonStr = json.dumps(result, indent=2, ensure_ascii=False)\n",
    "with open(outPath + now + \"_AutoData.json\", \"w\",  encoding=\"utf-8\") as outfile:\n",
    "    outfile.write(resultJsonStr)"
   ]
  },
  {
   "cell_type": "code",
   "execution_count": 5,
   "metadata": {},
   "outputs": [
    {
     "name": "stdout",
     "output_type": "stream",
     "text": [
      "Endpoint Response Code: 200\n"
     ]
    }
   ],
   "source": [
    "url = 'https://opendata.cwa.gov.tw/api/v1/rest/datastore/F-D0047-063'\n",
    "queryParams = {\n",
    "    'Authorization': authorizationKey,\n",
    "    'format': 'JSON',\n",
    "    'sort': 'time'}\n",
    "result = connect_to_cwb(url, queryParams)"
   ]
  },
  {
   "cell_type": "code",
   "execution_count": 6,
   "metadata": {},
   "outputs": [],
   "source": [
    "type(result)\n",
    "outPath = \"../CWB_Data/\"\n",
    "resultJsonStr = json.dumps(result, indent=2, ensure_ascii=False)\n",
    "with open(outPath + now + \"_Taipei7Day.json\", \"w\",  encoding=\"utf-8\") as outfile:\n",
    "    outfile.write(resultJsonStr)"
   ]
  },
  {
   "cell_type": "code",
   "execution_count": 7,
   "metadata": {},
   "outputs": [
    {
     "name": "stdout",
     "output_type": "stream",
     "text": [
      "Endpoint Response Code: 200\n"
     ]
    }
   ],
   "source": [
    "url = 'https://opendata.cwa.gov.tw/api/v1/rest/datastore/F-D0047-071'\n",
    "queryParams = {\n",
    "    'Authorization': authorizationKey,\n",
    "    'format': 'JSON',\n",
    "    'sort': 'time'}\n",
    "result = connect_to_cwb(url, queryParams)\n",
    "outPath = \"../CWB_Data/\"\n",
    "resultJsonStr = json.dumps(result, indent=2, ensure_ascii=False)\n",
    "with open(outPath + now + \"_NewTaipei7Day.json\", \"w\",  encoding=\"utf-8\") as outfile:\n",
    "    outfile.write(resultJsonStr)"
   ]
  }
 ],
 "metadata": {
  "kernelspec": {
   "display_name": "Python 3",
   "language": "python",
   "name": "python3"
  },
  "language_info": {
   "codemirror_mode": {
    "name": "ipython",
    "version": 3
   },
   "file_extension": ".py",
   "mimetype": "text/x-python",
   "name": "python",
   "nbconvert_exporter": "python",
   "pygments_lexer": "ipython3",
   "version": "3.9.13"
  }
 },
 "nbformat": 4,
 "nbformat_minor": 4
}
